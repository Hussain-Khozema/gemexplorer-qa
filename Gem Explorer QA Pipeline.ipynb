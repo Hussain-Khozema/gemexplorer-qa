{
 "cells": [
  {
   "cell_type": "markdown",
   "id": "99c3f750",
   "metadata": {},
   "source": [
    "#### Import Libraries"
   ]
  },
  {
   "cell_type": "code",
   "execution_count": 1,
   "id": "29aeb0ec",
   "metadata": {},
   "outputs": [
    {
     "name": "stderr",
     "output_type": "stream",
     "text": [
      "06/28/2021 14:42:06 - INFO - faiss.loader -   Loading faiss with AVX2 support.\n",
      "06/28/2021 14:42:06 - INFO - faiss.loader -   Could not load library with AVX2 support due to:\n",
      "ModuleNotFoundError(\"No module named 'faiss.swigfaiss_avx2'\")\n",
      "06/28/2021 14:42:06 - INFO - faiss.loader -   Loading faiss.\n",
      "06/28/2021 14:42:07 - INFO - farm.modeling.prediction_head -   Better speed can be achieved with apex installed from https://www.github.com/nvidia/apex .\n",
      "06/28/2021 14:42:08 - INFO - faiss.loader -   Loading faiss with AVX2 support.\n",
      "06/28/2021 14:42:08 - INFO - faiss.loader -   Could not load library with AVX2 support due to:\n",
      "ModuleNotFoundError(\"No module named 'faiss.swigfaiss_avx2'\")\n",
      "06/28/2021 14:42:08 - INFO - faiss.loader -   Loading faiss.\n"
     ]
    }
   ],
   "source": [
    "import torch\n",
    "import json\n",
    "from haystack.preprocessor.cleaning import clean_wiki_text\n",
    "from haystack.preprocessor.preprocessor import PreProcessor\n",
    "from haystack.preprocessor.utils import convert_files_to_dicts, fetch_archive_from_http, eval_data_from_json\n",
    "from haystack.document_store.elasticsearch import ElasticsearchDocumentStore\n",
    "from haystack.document_store import InMemoryDocumentStore\n",
    "from haystack.retriever.sparse import TfidfRetriever\n",
    "from haystack.utils import print_answers\n",
    "from haystack.reader.farm import FARMReader\n",
    "from haystack.pipeline import ExtractiveQAPipeline"
   ]
  },
  {
   "cell_type": "markdown",
   "id": "cf91bf19",
   "metadata": {},
   "source": [
    "#### Check Cuda"
   ]
  },
  {
   "cell_type": "code",
   "execution_count": 2,
   "id": "673007a0",
   "metadata": {},
   "outputs": [
    {
     "name": "stdout",
     "output_type": "stream",
     "text": [
      "There are 1 GPU(s) available.\n",
      "We will use the GPU: NVIDIA GeForce GTX 1050\n"
     ]
    }
   ],
   "source": [
    "# If there's a GPU available...\n",
    "if torch.cuda.is_available():    \n",
    "\n",
    "    # Tell PyTorch to use the GPU.    \n",
    "    device = torch.device(\"cuda\")\n",
    "\n",
    "    print('There are %d GPU(s) available.' % torch.cuda.device_count())\n",
    "\n",
    "    print('We will use the GPU:', torch.cuda.get_device_name(0))\n",
    "\n",
    "# If not...\n",
    "else:\n",
    "    print('No GPU available, using the CPU instead.')\n",
    "    device = torch.device(\"cpu\")"
   ]
  },
  {
   "cell_type": "markdown",
   "id": "8e138a84",
   "metadata": {},
   "source": [
    "#### Connective to ElasticSearchDocumentStore"
   ]
  },
  {
   "cell_type": "code",
   "execution_count": 3,
   "id": "99a175b7",
   "metadata": {},
   "outputs": [
    {
     "name": "stderr",
     "output_type": "stream",
     "text": [
      "06/28/2021 14:42:08 - INFO - elasticsearch -   HEAD http://localhost:9200/ [status:200 request:0.011s]\n",
      "06/28/2021 14:42:08 - INFO - elasticsearch -   HEAD http://localhost:9200/document [status:200 request:0.003s]\n",
      "06/28/2021 14:42:08 - INFO - elasticsearch -   GET http://localhost:9200/document [status:200 request:0.002s]\n",
      "06/28/2021 14:42:08 - INFO - elasticsearch -   PUT http://localhost:9200/document/_mapping [status:200 request:0.008s]\n",
      "06/28/2021 14:42:08 - INFO - elasticsearch -   HEAD http://localhost:9200/label [status:200 request:0.002s]\n"
     ]
    }
   ],
   "source": [
    "# Connect to Elasticsearch\n",
    "document_store = ElasticsearchDocumentStore(\n",
    "        host=\"localhost\",\n",
    "        port=9200,\n",
    "        text_field = 'text',\n",
    "        name_field = 'name',\n",
    "        username=\"\",\n",
    "        password=\"\",\n",
    "        index=\"document\")"
   ]
  },
  {
   "cell_type": "markdown",
   "id": "dc20abfe",
   "metadata": {},
   "source": [
    "#### Store our documents in the document store"
   ]
  },
  {
   "cell_type": "code",
   "execution_count": 4,
   "id": "dbdc8dcf",
   "metadata": {},
   "outputs": [
    {
     "name": "stderr",
     "output_type": "stream",
     "text": [
      "06/28/2021 14:42:08 - WARNING - haystack.document_store.elasticsearch -   DEPRECATION WARNINGS: \n",
      "                1. delete_all_documents() method is deprecated, please use delete_documents method\n",
      "                For more details, please refer to the issue: https://github.com/deepset-ai/haystack/issues/1045\n",
      "                \n",
      "06/28/2021 14:42:08 - INFO - elasticsearch -   POST http://localhost:9200/document/_delete_by_query [status:200 request:0.081s]\n",
      "06/28/2021 14:42:10 - INFO - haystack.preprocessor.utils -   Converting gem_explorer\\after_applying\\acceptance_letter.txt\n",
      "06/28/2021 14:42:10 - INFO - haystack.preprocessor.utils -   Converting gem_explorer\\after_applying\\participation_letter.txt\n",
      "06/28/2021 14:42:10 - INFO - haystack.preprocessor.utils -   Converting gem_explorer\\back_ntu\\credit_transfer.txt\n",
      "06/28/2021 14:42:10 - INFO - haystack.preprocessor.utils -   Converting gem_explorer\\back_ntu\\post_exchange_review.txt\n",
      "06/28/2021 14:42:10 - INFO - haystack.preprocessor.utils -   Converting gem_explorer\\back_ntu\\reenroll_courses.txt\n",
      "06/28/2021 14:42:10 - INFO - haystack.preprocessor.utils -   Converting gem_explorer\\back_ntu\\transcripts.txt\n",
      "06/28/2021 14:42:10 - INFO - haystack.preprocessor.utils -   Converting gem_explorer\\before_applying\\allocation_criteria.txt\n",
      "06/28/2021 14:42:10 - INFO - haystack.preprocessor.utils -   Converting gem_explorer\\before_applying\\course_planning_restrictions.txt\n",
      "06/28/2021 14:42:10 - INFO - haystack.preprocessor.utils -   Converting gem_explorer\\before_applying\\eligibility_criteria.txt\n",
      "06/28/2021 14:42:10 - INFO - haystack.preprocessor.utils -   Converting gem_explorer\\before_applying\\financials_cost.txt\n",
      "06/28/2021 14:42:10 - INFO - haystack.preprocessor.utils -   Converting gem_explorer\\before_applying\\partner_universities_brochures.txt\n",
      "06/28/2021 14:42:10 - INFO - haystack.preprocessor.utils -   Converting gem_explorer\\before_applying\\scholars_guarantee.txt\n",
      "06/28/2021 14:42:10 - INFO - haystack.preprocessor.utils -   Converting gem_explorer\\before_departing\\drugs_act.txt\n",
      "06/28/2021 14:42:10 - INFO - haystack.preprocessor.utils -   Converting gem_explorer\\before_departing\\flights and housing.txt\n",
      "06/28/2021 14:42:10 - INFO - haystack.preprocessor.utils -   Converting gem_explorer\\before_departing\\health_insurance.txt\n",
      "06/28/2021 14:42:10 - INFO - haystack.preprocessor.utils -   Converting gem_explorer\\before_departing\\immigration.txt\n",
      "06/28/2021 14:42:10 - INFO - haystack.preprocessor.utils -   Converting gem_explorer\\before_departing\\ntu_insurance.txt\n",
      "06/28/2021 14:42:10 - INFO - haystack.preprocessor.utils -   Converting gem_explorer\\before_departing\\predeparture_briefing.txt\n",
      "06/28/2021 14:42:10 - INFO - haystack.preprocessor.utils -   Converting gem_explorer\\before_departing\\predeparture_checklist.txt\n",
      "06/28/2021 14:42:10 - INFO - haystack.preprocessor.utils -   Converting gem_explorer\\when_applying\\dates_and_deadlines.txt\n",
      "06/28/2021 14:42:11 - INFO - haystack.preprocessor.utils -   Converting gem_explorer\\when_applying\\how_to_apply.txt\n",
      "06/28/2021 14:42:11 - INFO - haystack.preprocessor.utils -   Converting gem_explorer\\while_abroad\\course_matching_update.txt\n",
      "06/28/2021 14:42:11 - INFO - haystack.preprocessor.utils -   Converting gem_explorer\\while_abroad\\emergency_contacts.txt\n",
      "06/28/2021 14:42:11 - INFO - haystack.preprocessor.utils -   Converting gem_explorer\\while_abroad\\ntu_ambassador.txt\n",
      "06/28/2021 14:42:11 - INFO - haystack.preprocessor.utils -   Converting gem_explorer\\while_abroad\\orientation.txt\n",
      "06/28/2021 14:42:11 - WARNING - haystack.preprocessor.preprocessor -   A sentence found with word count higher than the split length.\n",
      "06/28/2021 14:42:11 - WARNING - haystack.preprocessor.preprocessor -   A sentence found with word count higher than the split length.\n",
      "06/28/2021 14:42:11 - INFO - elasticsearch -   POST http://localhost:9200/_bulk?refresh=wait_for [status:200 request:0.472s]\n"
     ]
    }
   ],
   "source": [
    "document_store.delete_all_documents()\n",
    "all_docs = convert_files_to_dicts(dir_path=\"gem_explorer\")\n",
    "preprocessor = PreProcessor(\n",
    "    clean_empty_lines=True,\n",
    "    clean_whitespace=True,\n",
    "    clean_header_footer=False,\n",
    "    split_by=\"word\",\n",
    "    split_length=100,\n",
    "    split_respect_sentence_boundary=True\n",
    ")\n",
    "\n",
    "def clean_unicode(text):\n",
    "    return text.replace(\"\\u200b\",\"\")\n",
    "\n",
    "nested_docs = [preprocessor.process(d) for d in all_docs]\n",
    "docs = [d for x in nested_docs for d in x]\n",
    "for doc in docs:\n",
    "    doc['text'] = clean_unicode(doc['text'])\n",
    "\n",
    "document_store.write_documents(docs)"
   ]
  },
  {
   "cell_type": "markdown",
   "id": "9ebef846",
   "metadata": {},
   "source": [
    "#### Document Store insights"
   ]
  },
  {
   "cell_type": "code",
   "execution_count": 5,
   "id": "811714a7",
   "metadata": {},
   "outputs": [
    {
     "name": "stderr",
     "output_type": "stream",
     "text": [
      "06/28/2021 14:42:11 - INFO - elasticsearch -   POST http://localhost:9200/document/_count [status:200 request:0.008s]\n"
     ]
    },
    {
     "name": "stdout",
     "output_type": "stream",
     "text": [
      "Number of documents in the document store:  59\n"
     ]
    }
   ],
   "source": [
    "# Number of documents\n",
    "print(\"Number of documents in the document store: \", document_store.get_document_count())"
   ]
  },
  {
   "cell_type": "code",
   "execution_count": 6,
   "id": "ae9c9771",
   "metadata": {},
   "outputs": [
    {
     "name": "stderr",
     "output_type": "stream",
     "text": [
      "06/28/2021 14:42:11 - INFO - elasticsearch -   POST http://localhost:9200/document/_search?scroll=1d&size=10000 [status:200 request:0.006s]\n",
      "06/28/2021 14:42:11 - INFO - elasticsearch -   POST http://localhost:9200/_search/scroll [status:200 request:0.004s]\n",
      "06/28/2021 14:42:11 - INFO - elasticsearch -   DELETE http://localhost:9200/_search/scroll [status:200 request:0.004s]\n"
     ]
    },
    {
     "data": {
      "text/plain": [
       "{'text': \"Acceptance Letter\\nAfter successful application, students would be notified by their host universities regarding their Acceptance Letters. OGEM will notify students to collect the hard copies of their Acceptance Letters accordingly (if available). Type of Acceptance Letter\\nSoft copy: By Email from host university/OGEM\\n\\nHard copy: Collection at OGEM's office\\n\\nApplication Outcome (including Acceptance Letter) from Host University:\\nSemester 1: March to July\\n\\nSemester 2: August to December\", 'score': None, 'probability': None, 'question': None, 'meta': {'_split_id': 0, 'name': 'acceptance_letter.txt'}, 'embedding': None, 'id': 'bfa38af674bcbf9b2c71176f5b17af8'}"
      ]
     },
     "execution_count": 6,
     "metadata": {},
     "output_type": "execute_result"
    }
   ],
   "source": [
    "# Example of the document\n",
    "document_store.get_all_documents()[0]"
   ]
  },
  {
   "cell_type": "markdown",
   "id": "6a9c8fc0",
   "metadata": {},
   "source": [
    "#### Initialising ElasticSearchRetriever"
   ]
  },
  {
   "cell_type": "code",
   "execution_count": 7,
   "id": "d94bf48b",
   "metadata": {},
   "outputs": [],
   "source": [
    "from haystack.retriever.sparse import ElasticsearchRetriever\n",
    "retriever = ElasticsearchRetriever(document_store=document_store)"
   ]
  },
  {
   "cell_type": "markdown",
   "id": "7bc5f9f8",
   "metadata": {},
   "source": [
    "#### Lets test a few queries from the retriever"
   ]
  },
  {
   "cell_type": "code",
   "execution_count": 8,
   "id": "5a61a448",
   "metadata": {
    "scrolled": false
   },
   "outputs": [
    {
     "name": "stderr",
     "output_type": "stream",
     "text": [
      "06/28/2021 14:42:11 - INFO - elasticsearch -   POST http://localhost:9200/document/_search [status:200 request:0.005s]\n"
     ]
    },
    {
     "name": "stdout",
     "output_type": "stream",
     "text": [
      "Top retrieved document: \n",
      "\n",
      "\n",
      "Document Text:\n",
      " Allocation Criteria\n",
      "Before you apply, you should understand how our selection process works so that you can maximise your chances of securing a host university. OGEM's selection process is guided by\n",
      "\n",
      "the ranking of top three universities in your application\n",
      "\n",
      "the no. of available spots per semester and no. of applicants to each partner university. the priority of applicants as stated below. The system shall place students on their 1st university choice first, based on set allocation criteria (priority), before moving on to allocate 2nd university choices to students who did not get their 1st university choice.\n",
      "\n",
      "Score:  8.688457\n",
      "\n",
      "Probability: 74.76%\n",
      "----------------------------------------------------------------------------------------------------\n",
      "\n",
      "Document Text:\n",
      " Below are the terms of your priority and how to exercise it:\n",
      "\n",
      "This guarantee for CN Yang SP, NTU-USP and TSP Scholars refers to any overseas programme managed by OGEM (e.g. 2-week to a full semester, non-fee paying, and fee paying programme). The guarantee will be given to each eligible scholar only once over the course of their degree at NTU. This means that students will only be given a guarantee one time for an overseas immersion programme.\n",
      "\n",
      "Score:  5.8626337\n",
      "\n",
      "Probability: 67.54%\n",
      "----------------------------------------------------------------------------------------------------\n"
     ]
    }
   ],
   "source": [
    "question = \"How is my application priority considered?\"\n",
    "documents = retriever.retrieve(query = question, top_k=2)\n",
    "print(\"Top retrieved document: \\n\")\n",
    "for document in documents:\n",
    "    print(\"\\nDocument Text:\\n\", document.text)\n",
    "    print(\"\\nScore: \", document.score)\n",
    "    print(\"\\nProbability: {:.2f}%\".format(document.probability*100))\n",
    "    print(\"-\"* 100)\n"
   ]
  },
  {
   "cell_type": "code",
   "execution_count": 9,
   "id": "98d88880",
   "metadata": {},
   "outputs": [
    {
     "name": "stderr",
     "output_type": "stream",
     "text": [
      "06/28/2021 14:42:11 - INFO - elasticsearch -   POST http://localhost:9200/document/_search [status:200 request:0.005s]\n"
     ]
    },
    {
     "name": "stdout",
     "output_type": "stream",
     "text": [
      "Top retrieved document: \n",
      "\n",
      "\n",
      "Document Text:\n",
      " Do note that these costs vary as they are based on an individual's spending habits and lifestyle. Region\tEstimated Cost\n",
      "Asia\tS$12,000 onwards\n",
      "Oceania\tS$18,000 onwards\n",
      "Americas & Europe\tS$20,000 onwards\n",
      "There are several financial assistance schemes available to students who wish to seek financial support while on exchange. Please see Financial Aid to find out more about awards, scholarships, loans, and grants available for NTU students.\n",
      "\n",
      "Score:  7.0461354\n",
      "\n",
      "Probability: 70.70%\n",
      "----------------------------------------------------------------------------------------------------\n",
      "\n",
      "Document Text:\n",
      " Consumption of Controlled Drugs Overseas\n",
      "The possession and consumption of illegal drugs outside of Singapore by Singapore citizens and Permanent Residents are still considered offences punishable by Singaporean law. Specifically, Section 8A of the Act criminalises drug consumption overseas by Singapore citizens or permanent residents. This is crucial for all outbound exchange students to note, as the consequences are severe:\n",
      "\n",
      "Imprisonment for up to ten (10) years;\n",
      "\n",
      "A fine of up to (but not more than) S$20,000;\n",
      "\n",
      "Or both of the above penalties. What is considered a \"controlled drug\"?\n",
      "\n",
      "Score:  5.4831095\n",
      "\n",
      "Probability: 66.49%\n",
      "----------------------------------------------------------------------------------------------------\n"
     ]
    }
   ],
   "source": [
    "question = \"what is the estimated cost for asian universities\"\n",
    "documents = retriever.retrieve(query = question, top_k=2)\n",
    "print(\"Top retrieved document: \\n\")\n",
    "for document in documents:\n",
    "    print(\"\\nDocument Text:\\n\", document.text)\n",
    "    print(\"\\nScore: \", document.score)\n",
    "    print(\"\\nProbability: {:.2f}%\".format(document.probability*100))\n",
    "    print(\"-\"* 100)\n"
   ]
  },
  {
   "cell_type": "code",
   "execution_count": 10,
   "id": "c543e187",
   "metadata": {},
   "outputs": [],
   "source": [
    "# Clear Cuda memory\n",
    "\n",
    "import gc\n",
    "\n",
    "gc.collect()\n",
    "\n",
    "torch.cuda.empty_cache()"
   ]
  },
  {
   "cell_type": "markdown",
   "id": "09fe321f",
   "metadata": {},
   "source": [
    "#### Using a pretrained model trained on SQuAD dataset"
   ]
  },
  {
   "cell_type": "code",
   "execution_count": 11,
   "id": "96a0ef62",
   "metadata": {},
   "outputs": [
    {
     "name": "stderr",
     "output_type": "stream",
     "text": [
      "06/28/2021 14:42:11 - INFO - farm.utils -   Using device: CUDA \n",
      "06/28/2021 14:42:11 - INFO - farm.utils -   Number of GPUs: 1\n",
      "06/28/2021 14:42:11 - INFO - farm.utils -   Distributed Training: False\n",
      "06/28/2021 14:42:11 - INFO - farm.utils -   Automatic Mixed Precision: None\n",
      "06/28/2021 14:42:24 - WARNING - farm.utils -   ML Logging is turned off. No parameters, metrics or artifacts will be logged to MLFlow.\n",
      "06/28/2021 14:42:24 - INFO - farm.utils -   Using device: CUDA \n",
      "06/28/2021 14:42:24 - INFO - farm.utils -   Number of GPUs: 1\n",
      "06/28/2021 14:42:24 - INFO - farm.utils -   Distributed Training: False\n",
      "06/28/2021 14:42:24 - INFO - farm.utils -   Automatic Mixed Precision: None\n",
      "06/28/2021 14:42:24 - INFO - farm.infer -   Got ya 7 parallel workers to do inference ...\n",
      "06/28/2021 14:42:24 - INFO - farm.infer -    0    0    0    0    0    0    0 \n",
      "06/28/2021 14:42:24 - INFO - farm.infer -   /w\\  /w\\  /w\\  /w\\  /w\\  /w\\  /w\\\n",
      "06/28/2021 14:42:24 - INFO - farm.infer -   /'\\  / \\  /'\\  /'\\  / \\  / \\  /'\\\n",
      "06/28/2021 14:42:24 - INFO - farm.infer -               \n"
     ]
    }
   ],
   "source": [
    "from haystack.reader.farm import FARMReader  \n",
    "# deepset/roberta-base-squad2\n",
    "reader = FARMReader(model_name_or_path=\"distilbert-base-uncased-distilled-squad\", use_gpu=True)"
   ]
  },
  {
   "cell_type": "markdown",
   "id": "12fce024",
   "metadata": {},
   "source": [
    "#### Fine tuning the model with our own domain specific data"
   ]
  },
  {
   "cell_type": "code",
   "execution_count": 12,
   "id": "1263f852",
   "metadata": {},
   "outputs": [
    {
     "name": "stderr",
     "output_type": "stream",
     "text": [
      "06/28/2021 14:42:24 - INFO - farm.utils -   Using device: CUDA \n",
      "06/28/2021 14:42:24 - INFO - farm.utils -   Number of GPUs: 1\n",
      "06/28/2021 14:42:24 - INFO - farm.utils -   Distributed Training: False\n",
      "06/28/2021 14:42:24 - INFO - farm.utils -   Automatic Mixed Precision: None\n",
      "Preprocessing Dataset data\\answers.json: 100%|█████████████████████████████████████| 25/25 [00:06<00:00,  4.04 Dicts/s]\n",
      "06/28/2021 14:42:32 - WARNING - farm.modeling.prediction_head -   Some unused parameters are passed to the QuestionAnsweringHead. Might not be a problem. Params: {\"training\": false, \"num_labels\": 2, \"ph_output_type\": \"per_token_squad\", \"model_type\": \"span_classification\", \"label_tensor_name\": \"question_answering_label_ids\", \"label_list\": [\"start_token\", \"end_token\"], \"metric\": \"squad\", \"name\": \"QuestionAnsweringHead\"}\n",
      "06/28/2021 14:42:32 - INFO - farm.modeling.optimization -   Loading optimizer `TransformersAdamW`: '{'correct_bias': False, 'weight_decay': 0.01, 'lr': 1e-05}'\n",
      "06/28/2021 14:42:32 - INFO - farm.modeling.optimization -   Using scheduler 'get_linear_schedule_with_warmup'\n",
      "06/28/2021 14:42:32 - INFO - farm.modeling.optimization -   Loading schedule `get_linear_schedule_with_warmup`: '{'num_training_steps': 170, 'num_warmup_steps': 34}'\n",
      "Train epoch 0/4 (Cur. train loss: 2.3700): 100%|███████████████████████████████████████| 34/34 [00:21<00:00,  1.56it/s]\n",
      "Train epoch 1/4 (Cur. train loss: 1.4979): 100%|███████████████████████████████████████| 34/34 [00:21<00:00,  1.61it/s]\n",
      "Train epoch 2/4 (Cur. train loss: 0.5114): 100%|███████████████████████████████████████| 34/34 [00:21<00:00,  1.58it/s]\n",
      "Train epoch 3/4 (Cur. train loss: 0.8112): 100%|███████████████████████████████████████| 34/34 [00:21<00:00,  1.55it/s]\n",
      "Train epoch 4/4 (Cur. train loss: 0.6467): 100%|███████████████████████████████████████| 34/34 [00:21<00:00,  1.56it/s]\n",
      "06/28/2021 14:44:20 - INFO - haystack.reader.farm -   Saving reader model to my_model\n"
     ]
    }
   ],
   "source": [
    "train_data = \"data\"\n",
    "train_filename = \"answers.json\"\n",
    "# train_data = \"PATH/TO_YOUR/TRAIN_DATA\" \n",
    "reader.train(data_dir=train_data, train_filename=train_filename, use_gpu=True, n_epochs=5, save_dir=\"my_model\")"
   ]
  },
  {
   "cell_type": "code",
   "execution_count": 13,
   "id": "fd876a88",
   "metadata": {},
   "outputs": [
    {
     "name": "stderr",
     "output_type": "stream",
     "text": [
      "06/28/2021 14:44:43 - INFO - farm.utils -   Using device: CUDA \n",
      "06/28/2021 14:44:43 - INFO - farm.utils -   Number of GPUs: 1\n",
      "06/28/2021 14:44:43 - INFO - farm.utils -   Distributed Training: False\n",
      "06/28/2021 14:44:43 - INFO - farm.utils -   Automatic Mixed Precision: None\n",
      "06/28/2021 14:44:44 - WARNING - farm.modeling.prediction_head -   Some unused parameters are passed to the QuestionAnsweringHead. Might not be a problem. Params: {\"training\": true, \"num_labels\": 2, \"ph_output_type\": \"per_token_squad\", \"model_type\": \"span_classification\", \"label_tensor_name\": \"question_answering_label_ids\", \"label_list\": [\"start_token\", \"end_token\"], \"metric\": \"squad\", \"name\": \"QuestionAnsweringHead\"}\n",
      "06/28/2021 14:44:44 - WARNING - farm.utils -   ML Logging is turned off. No parameters, metrics or artifacts will be logged to MLFlow.\n",
      "06/28/2021 14:44:44 - INFO - farm.utils -   Using device: CUDA \n",
      "06/28/2021 14:44:44 - INFO - farm.utils -   Number of GPUs: 1\n",
      "06/28/2021 14:44:44 - INFO - farm.utils -   Distributed Training: False\n",
      "06/28/2021 14:44:44 - INFO - farm.utils -   Automatic Mixed Precision: None\n",
      "06/28/2021 14:44:44 - INFO - farm.infer -   Got ya 7 parallel workers to do inference ...\n",
      "06/28/2021 14:44:44 - INFO - farm.infer -    0    0    0    0    0    0    0 \n",
      "06/28/2021 14:44:44 - INFO - farm.infer -   /w\\  /w\\  /w\\  /w\\  /w\\  /w\\  /w\\\n",
      "06/28/2021 14:44:44 - INFO - farm.infer -   /'\\  / \\  /'\\  /'\\  / \\  / \\  /'\\\n",
      "06/28/2021 14:44:44 - INFO - farm.infer -               \n"
     ]
    }
   ],
   "source": [
    "# Loading trained model\n",
    "\n",
    "reader = FARMReader('my_model')"
   ]
  },
  {
   "cell_type": "code",
   "execution_count": 14,
   "id": "d0567628",
   "metadata": {},
   "outputs": [],
   "source": [
    "# Creating a pipeline\n",
    "\n",
    "pipe = ExtractiveQAPipeline(reader, retriever)"
   ]
  },
  {
   "cell_type": "code",
   "execution_count": 15,
   "id": "55fde73c",
   "metadata": {},
   "outputs": [],
   "source": [
    "top_k_retriever=5\n",
    "top_k_reader=2"
   ]
  },
  {
   "cell_type": "markdown",
   "id": "4f50b425",
   "metadata": {},
   "source": [
    "#### Lets test the pipeline"
   ]
  },
  {
   "cell_type": "code",
   "execution_count": 16,
   "id": "0b97e4d9",
   "metadata": {},
   "outputs": [
    {
     "name": "stderr",
     "output_type": "stream",
     "text": [
      "06/28/2021 14:44:46 - INFO - elasticsearch -   POST http://localhost:9200/document/_search [status:200 request:0.005s]\n"
     ]
    },
    {
     "name": "stdout",
     "output_type": "stream",
     "text": [
      "Top retrieved document: \n",
      "\n",
      "\n",
      "Document Text:\n",
      " Allocation Criteria\n",
      "Before you apply, you should understand how our selection process works so that you can maximise your chances of securing a host university. OGEM's selection process is guided by\n",
      "\n",
      "the ranking of top three universities in your application\n",
      "\n",
      "the no. of available spots per semester and no. of applicants to each partner university. the priority of applicants as stated below. The system shall place students on their 1st university choice first, based on set allocation criteria (priority), before moving on to allocate 2nd university choices to students who did not get their 1st university choice.\n",
      "\n",
      "Score:  6.946327\n",
      "\n",
      "Probability: 70.44%\n",
      "----------------------------------------------------------------------------------------------------\n",
      "\n",
      "Document Text:\n",
      " Please do not make any payment fee for any administrative matter including visa, air tickets and accommodation until you are advised to do so.\n",
      "\n",
      "Score:  5.942872\n",
      "\n",
      "Probability: 67.76%\n",
      "----------------------------------------------------------------------------------------------------\n"
     ]
    }
   ],
   "source": [
    "question = \"Do senior students get any priority?\"\n",
    "documents = retriever.retrieve(query = question, top_k=2)\n",
    "print(\"Top retrieved document: \\n\")\n",
    "for document in documents:\n",
    "    print(\"\\nDocument Text:\\n\", document.text)\n",
    "    print(\"\\nScore: \", document.score)\n",
    "    print(\"\\nProbability: {:.2f}%\".format(document.probability*100))\n",
    "    print(\"-\"* 100)"
   ]
  },
  {
   "cell_type": "markdown",
   "id": "e3f66e2e",
   "metadata": {},
   "source": [
    "#### Prediction Funcion"
   ]
  },
  {
   "cell_type": "code",
   "execution_count": 17,
   "id": "d3d0e46e",
   "metadata": {},
   "outputs": [],
   "source": [
    "top_k_retriever=5\n",
    "top_k_reader=3\n",
    "def print_answer(question, top_answer= False):\n",
    "    prediction = pipe.run(query=question, top_k_retriever=top_k_retriever, top_k_reader=top_k_reader)\n",
    "    if len(prediction['answers']) == 0:\n",
    "        return \"No answers found\"\n",
    "    print(\"Top Answer = \", prediction['answers'][0]['answer'])\n",
    "    print(\"-\"* 100)\n",
    "    answers = prediction['answers']\n",
    "    if not top_answer:\n",
    "        for answer in answers:\n",
    "            ans = answer[\"answer\"]\n",
    "            context = answer[\"context\"]\n",
    "            document_name = answer[\"meta\"][\"name\"]\n",
    "            score = answer[\"score\"]\n",
    "            print(\"Answer: \\n\", ans)\n",
    "            print(\"\\nContext: \\n\", context)\n",
    "            print(\"\\nDocument_name: \\n\", document_name)\n",
    "            print(\"\\nScore: \\n\", score)\n",
    "            print('-' * 100)\n",
    "    return"
   ]
  },
  {
   "cell_type": "code",
   "execution_count": 18,
   "id": "43973c7a",
   "metadata": {},
   "outputs": [
    {
     "name": "stderr",
     "output_type": "stream",
     "text": [
      "06/28/2021 14:44:48 - INFO - elasticsearch -   POST http://localhost:9200/document/_search [status:200 request:0.004s]\n",
      "Inferencing Samples: 100%|█████████████████████████████████████████████████████████| 1/1 [00:00<00:00, 31.33 Batches/s]\n",
      "Inferencing Samples: 100%|█████████████████████████████████████████████████████████| 1/1 [00:00<00:00, 38.57 Batches/s]\n",
      "Inferencing Samples: 100%|█████████████████████████████████████████████████████████| 1/1 [00:00<00:00, 37.06 Batches/s]\n",
      "Inferencing Samples: 100%|█████████████████████████████████████████████████████████| 1/1 [00:00<00:00, 34.57 Batches/s]\n",
      "Inferencing Samples: 100%|█████████████████████████████████████████████████████████| 1/1 [00:00<00:00, 37.13 Batches/s]"
     ]
    },
    {
     "name": "stdout",
     "output_type": "stream",
     "text": [
      "Top Answer =  Students at a more senior level with similar merits shall have a higher chance of allocation.\n",
      "----------------------------------------------------------------------------------------------------\n",
      "Answer: \n",
      " Students at a more senior level with similar merits shall have a higher chance of allocation.\n",
      "\n",
      "Context: \n",
      " s for last competitive spot)\n",
      "Students at a more senior level with similar merits shall have a higher chance of allocation. Students with prior oversea\n",
      "\n",
      "Document_name: \n",
      " allocation_criteria.txt\n",
      "\n",
      "Score: \n",
      " 11.602807998657227\n",
      "----------------------------------------------------------------------------------------------------\n",
      "Answer: \n",
      " Please do not make any payment fee for any administrative matter including visa, air tickets and accommodation until you are advised to do so.\n",
      "\n",
      "Context: \n",
      " Please do not make any payment fee for any administrative matter including visa, air tickets and accommodation until you are advised to do so.\n",
      "\n",
      "Document_name: \n",
      " dates_and_deadlines.txt\n",
      "\n",
      "Score: \n",
      " 5.387704849243164\n",
      "----------------------------------------------------------------------------------------------------\n",
      "Answer: \n",
      " given a one-time priority for placement\n",
      "\n",
      "Context: \n",
      "  and TSP Scholars who are eligible for GEM Explorer are given a one-time priority for placement in any overseas programme managed by OGEM. This means \n",
      "\n",
      "Document_name: \n",
      " scholars_guarantee.txt\n",
      "\n",
      "Score: \n",
      " 4.882081985473633\n",
      "----------------------------------------------------------------------------------------------------\n"
     ]
    },
    {
     "name": "stderr",
     "output_type": "stream",
     "text": [
      "\n"
     ]
    }
   ],
   "source": [
    "print_answer(\"Do senior students get any priority?\")"
   ]
  }
 ],
 "metadata": {
  "kernelspec": {
   "display_name": "Python 3",
   "language": "python",
   "name": "python3"
  },
  "language_info": {
   "codemirror_mode": {
    "name": "ipython",
    "version": 3
   },
   "file_extension": ".py",
   "mimetype": "text/x-python",
   "name": "python",
   "nbconvert_exporter": "python",
   "pygments_lexer": "ipython3",
   "version": "3.9.5"
  }
 },
 "nbformat": 4,
 "nbformat_minor": 5
}
